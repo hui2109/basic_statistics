{
 "cells": [
  {
   "cell_type": "code",
   "execution_count": 17,
   "metadata": {
    "collapsed": true,
    "ExecuteTime": {
     "end_time": "2023-06-01T06:23:37.589788Z",
     "start_time": "2023-06-01T06:23:37.587711Z"
    }
   },
   "outputs": [
    {
     "name": "stdout",
     "output_type": "stream",
     "text": [
      "Songti SC\n"
     ]
    }
   ],
   "source": [
    "import matplotlib.font_manager as ftm\n",
    "\n",
    "fm = ftm.fontManager\n",
    "for font in fm.ttflist:\n",
    "    if 'Song' in font.name:\n",
    "        print(font.name)"
   ]
  }
 ],
 "metadata": {
  "kernelspec": {
   "display_name": "Python 3",
   "language": "python",
   "name": "python3"
  },
  "language_info": {
   "codemirror_mode": {
    "name": "ipython",
    "version": 2
   },
   "file_extension": ".py",
   "mimetype": "text/x-python",
   "name": "python",
   "nbconvert_exporter": "python",
   "pygments_lexer": "ipython2",
   "version": "2.7.6"
  }
 },
 "nbformat": 4,
 "nbformat_minor": 0
}
