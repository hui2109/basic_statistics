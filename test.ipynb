{
 "cells": [
  {
   "cell_type": "code",
   "execution_count": 23,
   "metadata": {
    "collapsed": true,
    "ExecuteTime": {
     "end_time": "2023-06-01T06:14:37.529803Z",
     "start_time": "2023-06-01T06:14:37.526603Z"
    }
   },
   "outputs": [
    {
     "name": "stdout",
     "output_type": "stream",
     "text": [
      "Microsoft Sans Serif\n"
     ]
    }
   ],
   "source": [
    "import matplotlib.pyplot as plt\n",
    "import numpy as np\n",
    "\n",
    "A = np.arange(1, 5)\n",
    "B = A ** 2\n",
    "C = A ** 3\n",
    "\n",
    "figure, ax = plt.subplots(figsize=(14, 7))\n",
    "\n",
    "ax.plot(A, B)\n",
    "ax.plot(B, A)\n",
    "\n",
    "ax.set_title('Title', fontsize=18)\n",
    "ax.set_xlabel('xlabel', fontsize=18, fontfamily='Times New Roman', fontstyle='italic')\n",
    "ax.set_ylabel('ylabel', fontsize='x-large', fontstyle='oblique')\n",
    "# ax.legend()\n",
    "\n",
    "ax.set_aspect('equal')\n",
    "ax.minorticks_on()\n",
    "ax.set_xlim(0, 16)\n",
    "ax.grid(which='minor', axis='both')\n",
    "\n",
    "ax.xaxis.set_tick_params(rotation=45, labelsize=18, colors='g')\n",
    "start, end = ax.get_xlim()\n",
    "ax.xaxis.set_ticks(np.arange(start, end, 1))\n",
    "ax.yaxis.tick_right()\n",
    "\n",
    "plt.show()"
   ]
  }
 ],
 "metadata": {
  "kernelspec": {
   "display_name": "Python 3",
   "language": "python",
   "name": "python3"
  },
  "language_info": {
   "codemirror_mode": {
    "name": "ipython",
    "version": 2
   },
   "file_extension": ".py",
   "mimetype": "text/x-python",
   "name": "python",
   "nbconvert_exporter": "python",
   "pygments_lexer": "ipython2",
   "version": "2.7.6"
  }
 },
 "nbformat": 4,
 "nbformat_minor": 0
}
